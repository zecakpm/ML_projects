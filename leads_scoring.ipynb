{
  "nbformat": 4,
  "nbformat_minor": 0,
  "metadata": {
    "colab": {
      "name": "leads_scoring.ipynb",
      "provenance": [],
      "authorship_tag": "ABX9TyOqDFxykaM23hl5luu84XoY",
      "include_colab_link": true
    },
    "kernelspec": {
      "name": "python3",
      "display_name": "Python 3"
    },
    "language_info": {
      "name": "python"
    }
  },
  "cells": [
    {
      "cell_type": "markdown",
      "metadata": {
        "id": "view-in-github",
        "colab_type": "text"
      },
      "source": [
        "<a href=\"https://colab.research.google.com/github/zecakpm/ML_projects/blob/main/leads_scoring.ipynb\" target=\"_parent\"><img src=\"https://colab.research.google.com/assets/colab-badge.svg\" alt=\"Open In Colab\"/></a>"
      ]
    },
    {
      "cell_type": "markdown",
      "metadata": {
        "id": "YRFq3wWOpkv7"
      },
      "source": [
        "##**Lead scoring classifier**\n",
        "\n",
        "*   Get dataset\n",
        "* Select categorical and numerical variables\n",
        "* Split dataset\n",
        "* Add dummy variables\n",
        "* Scale all \n",
        "* Train model\n",
        "* Check accuracy\n",
        "* Check most important features\n",
        "\n",
        "\n",
        "\n",
        "\n",
        "\n"
      ]
    },
    {
      "cell_type": "markdown",
      "metadata": {
        "id": "pN9nZ9mx35pw"
      },
      "source": [
        "Reference material\n",
        "\n",
        "https://towardsdatascience.com/a-true-end-to-end-ml-example-lead-scoring-f5b52e9a3c80"
      ]
    },
    {
      "cell_type": "markdown",
      "metadata": {
        "id": "MJfOC1Pwpdo2"
      },
      "source": [
        "##**Libraries**"
      ]
    },
    {
      "cell_type": "code",
      "metadata": {
        "id": "W3N_DhhoZpPQ"
      },
      "source": [
        "import numpy as np\n",
        "import pandas as pd\n",
        "import matplotlib.pyplot as plt\n",
        "import sklearn\n",
        "from sklearn import svm, preprocessing\n",
        "from sklearn.model_selection import train_test_split\n",
        "from sklearn.preprocessing import StandardScaler\n",
        "from sklearn.ensemble import RandomForestClassifier\n",
        "from sklearn.metrics import accuracy_score, roc_auc_score\n",
        "\n"
      ],
      "execution_count": 75,
      "outputs": []
    },
    {
      "cell_type": "code",
      "metadata": {
        "colab": {
          "base_uri": "https://localhost:8080/"
        },
        "id": "Sttlag4lZ0N1",
        "outputId": "2d8b6959-8702-4e3c-cfac-f255795b7aa5"
      },
      "source": [
        "#connecting with personal frive\n",
        "from google.colab import drive\n",
        "drive.mount('/content/drive')"
      ],
      "execution_count": 28,
      "outputs": [
        {
          "output_type": "stream",
          "text": [
            "Drive already mounted at /content/drive; to attempt to forcibly remount, call drive.mount(\"/content/drive\", force_remount=True).\n"
          ],
          "name": "stdout"
        }
      ]
    },
    {
      "cell_type": "markdown",
      "metadata": {
        "id": "YK53tfgJpOYT"
      },
      "source": [
        "##**Dataset**\n",
        "\n",
        "*   Leads dataset kaggle\n",
        "* https://www.kaggle.com/ashydv/leads-dataset\n",
        "\n"
      ]
    },
    {
      "cell_type": "code",
      "metadata": {
        "id": "GsZzO5UlZ8l-"
      },
      "source": [
        "#open file\n",
        "df = open('/content/drive/My Drive/Colab Notebooks/Projects/leads_scoring/Leads_cleaned.csv')"
      ],
      "execution_count": 57,
      "outputs": []
    },
    {
      "cell_type": "code",
      "metadata": {
        "id": "8h6nCVbCZ8aY"
      },
      "source": [
        "df = pd.read_csv(df,index_col=0)"
      ],
      "execution_count": 58,
      "outputs": []
    },
    {
      "cell_type": "markdown",
      "metadata": {
        "id": "JQW9nGAOltx_"
      },
      "source": [
        "##**Lower case column names**"
      ]
    },
    {
      "cell_type": "code",
      "metadata": {
        "id": "KL5YTy7fdFjX"
      },
      "source": [
        "df.columns = map(str.lower, df.columns)"
      ],
      "execution_count": 59,
      "outputs": []
    },
    {
      "cell_type": "code",
      "metadata": {
        "id": "s_bvcvuCZ8Xe",
        "colab": {
          "base_uri": "https://localhost:8080/",
          "height": 535
        },
        "outputId": "dbb9c7ff-7ea7-496d-8b87-0d6154b16f5b"
      },
      "source": [
        "df.head()"
      ],
      "execution_count": 60,
      "outputs": [
        {
          "output_type": "execute_result",
          "data": {
            "text/html": [
              "<div>\n",
              "<style scoped>\n",
              "    .dataframe tbody tr th:only-of-type {\n",
              "        vertical-align: middle;\n",
              "    }\n",
              "\n",
              "    .dataframe tbody tr th {\n",
              "        vertical-align: top;\n",
              "    }\n",
              "\n",
              "    .dataframe thead th {\n",
              "        text-align: right;\n",
              "    }\n",
              "</style>\n",
              "<table border=\"1\" class=\"dataframe\">\n",
              "  <thead>\n",
              "    <tr style=\"text-align: right;\">\n",
              "      <th></th>\n",
              "      <th>prospect id</th>\n",
              "      <th>lead number</th>\n",
              "      <th>lead origin</th>\n",
              "      <th>lead source</th>\n",
              "      <th>do not email</th>\n",
              "      <th>do not call</th>\n",
              "      <th>converted</th>\n",
              "      <th>totalvisits</th>\n",
              "      <th>total time spent on website</th>\n",
              "      <th>page views per visit</th>\n",
              "      <th>last activity</th>\n",
              "      <th>country</th>\n",
              "      <th>specialization</th>\n",
              "      <th>what is your current occupation</th>\n",
              "      <th>what matters most to you in choosing a course</th>\n",
              "      <th>search</th>\n",
              "      <th>magazine</th>\n",
              "      <th>newspaper article</th>\n",
              "      <th>x education forums</th>\n",
              "      <th>newspaper</th>\n",
              "      <th>digital advertisement</th>\n",
              "      <th>through recommendations</th>\n",
              "      <th>receive more updates about our courses</th>\n",
              "      <th>tags</th>\n",
              "      <th>lead quality</th>\n",
              "      <th>update me on supply chain content</th>\n",
              "      <th>get updates on dm content</th>\n",
              "      <th>city</th>\n",
              "      <th>i agree to pay the amount through cheque</th>\n",
              "      <th>a free copy of mastering the interview</th>\n",
              "      <th>last notable activity</th>\n",
              "    </tr>\n",
              "  </thead>\n",
              "  <tbody>\n",
              "    <tr>\n",
              "      <th>0</th>\n",
              "      <td>7927b2df-8bba-4d29-b9a2-b6e0beafe620</td>\n",
              "      <td>660737</td>\n",
              "      <td>API</td>\n",
              "      <td>Olark Chat</td>\n",
              "      <td>No</td>\n",
              "      <td>No</td>\n",
              "      <td>0</td>\n",
              "      <td>0.0</td>\n",
              "      <td>0</td>\n",
              "      <td>0.0</td>\n",
              "      <td>Page Visited on Website</td>\n",
              "      <td>India</td>\n",
              "      <td>Others</td>\n",
              "      <td>Unemployed</td>\n",
              "      <td>Better Career Prospects</td>\n",
              "      <td>No</td>\n",
              "      <td>No</td>\n",
              "      <td>No</td>\n",
              "      <td>No</td>\n",
              "      <td>No</td>\n",
              "      <td>No</td>\n",
              "      <td>No</td>\n",
              "      <td>No</td>\n",
              "      <td>Interested in other courses</td>\n",
              "      <td>Low in Relevance</td>\n",
              "      <td>No</td>\n",
              "      <td>No</td>\n",
              "      <td>Mumbai</td>\n",
              "      <td>No</td>\n",
              "      <td>No</td>\n",
              "      <td>Modified</td>\n",
              "    </tr>\n",
              "    <tr>\n",
              "      <th>1</th>\n",
              "      <td>2a272436-5132-4136-86fa-dcc88c88f482</td>\n",
              "      <td>660728</td>\n",
              "      <td>API</td>\n",
              "      <td>Organic Search</td>\n",
              "      <td>No</td>\n",
              "      <td>No</td>\n",
              "      <td>0</td>\n",
              "      <td>5.0</td>\n",
              "      <td>674</td>\n",
              "      <td>2.5</td>\n",
              "      <td>Email Opened</td>\n",
              "      <td>India</td>\n",
              "      <td>Others</td>\n",
              "      <td>Unemployed</td>\n",
              "      <td>Better Career Prospects</td>\n",
              "      <td>No</td>\n",
              "      <td>No</td>\n",
              "      <td>No</td>\n",
              "      <td>No</td>\n",
              "      <td>No</td>\n",
              "      <td>No</td>\n",
              "      <td>No</td>\n",
              "      <td>No</td>\n",
              "      <td>Ringing</td>\n",
              "      <td>Not Sure</td>\n",
              "      <td>No</td>\n",
              "      <td>No</td>\n",
              "      <td>Mumbai</td>\n",
              "      <td>No</td>\n",
              "      <td>No</td>\n",
              "      <td>Email Opened</td>\n",
              "    </tr>\n",
              "    <tr>\n",
              "      <th>2</th>\n",
              "      <td>8cc8c611-a219-4f35-ad23-fdfd2656bd8a</td>\n",
              "      <td>660727</td>\n",
              "      <td>Landing Page Submission</td>\n",
              "      <td>Direct Traffic</td>\n",
              "      <td>No</td>\n",
              "      <td>No</td>\n",
              "      <td>1</td>\n",
              "      <td>2.0</td>\n",
              "      <td>1532</td>\n",
              "      <td>2.0</td>\n",
              "      <td>Email Opened</td>\n",
              "      <td>India</td>\n",
              "      <td>Business Administration</td>\n",
              "      <td>Student</td>\n",
              "      <td>Better Career Prospects</td>\n",
              "      <td>No</td>\n",
              "      <td>No</td>\n",
              "      <td>No</td>\n",
              "      <td>No</td>\n",
              "      <td>No</td>\n",
              "      <td>No</td>\n",
              "      <td>No</td>\n",
              "      <td>No</td>\n",
              "      <td>Will revert after reading the email</td>\n",
              "      <td>Might be</td>\n",
              "      <td>No</td>\n",
              "      <td>No</td>\n",
              "      <td>Mumbai</td>\n",
              "      <td>No</td>\n",
              "      <td>Yes</td>\n",
              "      <td>Email Opened</td>\n",
              "    </tr>\n",
              "    <tr>\n",
              "      <th>3</th>\n",
              "      <td>0cc2df48-7cf4-4e39-9de9-19797f9b38cc</td>\n",
              "      <td>660719</td>\n",
              "      <td>Landing Page Submission</td>\n",
              "      <td>Direct Traffic</td>\n",
              "      <td>No</td>\n",
              "      <td>No</td>\n",
              "      <td>0</td>\n",
              "      <td>1.0</td>\n",
              "      <td>305</td>\n",
              "      <td>1.0</td>\n",
              "      <td>Unreachable</td>\n",
              "      <td>India</td>\n",
              "      <td>Media and Advertising</td>\n",
              "      <td>Unemployed</td>\n",
              "      <td>Better Career Prospects</td>\n",
              "      <td>No</td>\n",
              "      <td>No</td>\n",
              "      <td>No</td>\n",
              "      <td>No</td>\n",
              "      <td>No</td>\n",
              "      <td>No</td>\n",
              "      <td>No</td>\n",
              "      <td>No</td>\n",
              "      <td>Ringing</td>\n",
              "      <td>Not Sure</td>\n",
              "      <td>No</td>\n",
              "      <td>No</td>\n",
              "      <td>Mumbai</td>\n",
              "      <td>No</td>\n",
              "      <td>No</td>\n",
              "      <td>Modified</td>\n",
              "    </tr>\n",
              "    <tr>\n",
              "      <th>4</th>\n",
              "      <td>3256f628-e534-4826-9d63-4a8b88782852</td>\n",
              "      <td>660681</td>\n",
              "      <td>Landing Page Submission</td>\n",
              "      <td>Google</td>\n",
              "      <td>No</td>\n",
              "      <td>No</td>\n",
              "      <td>1</td>\n",
              "      <td>2.0</td>\n",
              "      <td>1428</td>\n",
              "      <td>1.0</td>\n",
              "      <td>Converted to Lead</td>\n",
              "      <td>India</td>\n",
              "      <td>Others</td>\n",
              "      <td>Unemployed</td>\n",
              "      <td>Better Career Prospects</td>\n",
              "      <td>No</td>\n",
              "      <td>No</td>\n",
              "      <td>No</td>\n",
              "      <td>No</td>\n",
              "      <td>No</td>\n",
              "      <td>No</td>\n",
              "      <td>No</td>\n",
              "      <td>No</td>\n",
              "      <td>Will revert after reading the email</td>\n",
              "      <td>Might be</td>\n",
              "      <td>No</td>\n",
              "      <td>No</td>\n",
              "      <td>Mumbai</td>\n",
              "      <td>No</td>\n",
              "      <td>No</td>\n",
              "      <td>Modified</td>\n",
              "    </tr>\n",
              "  </tbody>\n",
              "</table>\n",
              "</div>"
            ],
            "text/plain": [
              "                            prospect id  ...  last notable activity\n",
              "0  7927b2df-8bba-4d29-b9a2-b6e0beafe620  ...               Modified\n",
              "1  2a272436-5132-4136-86fa-dcc88c88f482  ...           Email Opened\n",
              "2  8cc8c611-a219-4f35-ad23-fdfd2656bd8a  ...           Email Opened\n",
              "3  0cc2df48-7cf4-4e39-9de9-19797f9b38cc  ...               Modified\n",
              "4  3256f628-e534-4826-9d63-4a8b88782852  ...               Modified\n",
              "\n",
              "[5 rows x 31 columns]"
            ]
          },
          "metadata": {
            "tags": []
          },
          "execution_count": 60
        }
      ]
    },
    {
      "cell_type": "code",
      "metadata": {
        "id": "v3jqFhpiZ8Uw",
        "colab": {
          "base_uri": "https://localhost:8080/"
        },
        "outputId": "3ece05c6-ad7c-42f9-8aff-c826bb24af48"
      },
      "source": [
        "df.shape"
      ],
      "execution_count": 61,
      "outputs": [
        {
          "output_type": "execute_result",
          "data": {
            "text/plain": [
              "(9074, 31)"
            ]
          },
          "metadata": {
            "tags": []
          },
          "execution_count": 61
        }
      ]
    },
    {
      "cell_type": "code",
      "metadata": {
        "id": "2V7ZKtOdZ8SP",
        "colab": {
          "base_uri": "https://localhost:8080/"
        },
        "outputId": "46f7454e-1790-4e24-faf5-29f505f71d92"
      },
      "source": [
        "df.columns"
      ],
      "execution_count": 62,
      "outputs": [
        {
          "output_type": "execute_result",
          "data": {
            "text/plain": [
              "Index(['prospect id', 'lead number', 'lead origin', 'lead source',\n",
              "       'do not email', 'do not call', 'converted', 'totalvisits',\n",
              "       'total time spent on website', 'page views per visit', 'last activity',\n",
              "       'country', 'specialization', 'what is your current occupation',\n",
              "       'what matters most to you in choosing a course', 'search', 'magazine',\n",
              "       'newspaper article', 'x education forums', 'newspaper',\n",
              "       'digital advertisement', 'through recommendations',\n",
              "       'receive more updates about our courses', 'tags', 'lead quality',\n",
              "       'update me on supply chain content', 'get updates on dm content',\n",
              "       'city', 'i agree to pay the amount through cheque',\n",
              "       'a free copy of mastering the interview', 'last notable activity'],\n",
              "      dtype='object')"
            ]
          },
          "metadata": {
            "tags": []
          },
          "execution_count": 62
        }
      ]
    },
    {
      "cell_type": "markdown",
      "metadata": {
        "id": "YuQpCV03rzrM"
      },
      "source": [
        "##**Selected columns**"
      ]
    },
    {
      "cell_type": "code",
      "metadata": {
        "id": "TMyKQBw5Z8Pf",
        "colab": {
          "base_uri": "https://localhost:8080/"
        },
        "outputId": "376d3da8-4484-4a60-94ac-86f9b361e90c"
      },
      "source": [
        "cat_vars = ['lead origin',\n",
        "            'lead source',\n",
        "            'last activity',\n",
        "            'specialization',\n",
        "            'what is your current occupation',\n",
        "            'what matters most to you in choosing a course',\n",
        "            'city',\n",
        "            'last notable activity']\n",
        "\n",
        "num_vars = ['totalvisits',\n",
        "          'total time spent on website',\n",
        "          'page views per visit']\n",
        "\n",
        "target_label = ['converted']\n",
        "\n",
        "all = cat_vars + num_vars + target_label\n",
        "print(all)"
      ],
      "execution_count": 63,
      "outputs": [
        {
          "output_type": "stream",
          "text": [
            "['lead origin', 'lead source', 'last activity', 'specialization', 'what is your current occupation', 'what matters most to you in choosing a course', 'city', 'last notable activity', 'totalvisits', 'total time spent on website', 'page views per visit', 'converted']\n"
          ],
          "name": "stdout"
        }
      ]
    },
    {
      "cell_type": "markdown",
      "metadata": {
        "id": "1n5OVk2ajegE"
      },
      "source": [
        "##**Dropping columns**\n",
        "\n",
        "*   Remove columns not selected on previous section\n",
        "\n"
      ]
    },
    {
      "cell_type": "code",
      "metadata": {
        "id": "1ModoBg3uiNe"
      },
      "source": [
        "columns = df.columns.to_list()\n",
        "for var in columns:\n",
        "  if var not in all:\n",
        "    df.drop([var],axis=1,inplace= True)"
      ],
      "execution_count": 64,
      "outputs": []
    },
    {
      "cell_type": "code",
      "metadata": {
        "id": "TcXMjAE9h6ha",
        "outputId": "0e7c6f52-7b94-4492-9b88-2b963e64793c",
        "colab": {
          "base_uri": "https://localhost:8080/",
          "height": 469
        }
      },
      "source": [
        "df.head()"
      ],
      "execution_count": 65,
      "outputs": [
        {
          "output_type": "execute_result",
          "data": {
            "text/html": [
              "<div>\n",
              "<style scoped>\n",
              "    .dataframe tbody tr th:only-of-type {\n",
              "        vertical-align: middle;\n",
              "    }\n",
              "\n",
              "    .dataframe tbody tr th {\n",
              "        vertical-align: top;\n",
              "    }\n",
              "\n",
              "    .dataframe thead th {\n",
              "        text-align: right;\n",
              "    }\n",
              "</style>\n",
              "<table border=\"1\" class=\"dataframe\">\n",
              "  <thead>\n",
              "    <tr style=\"text-align: right;\">\n",
              "      <th></th>\n",
              "      <th>lead origin</th>\n",
              "      <th>lead source</th>\n",
              "      <th>converted</th>\n",
              "      <th>totalvisits</th>\n",
              "      <th>total time spent on website</th>\n",
              "      <th>page views per visit</th>\n",
              "      <th>last activity</th>\n",
              "      <th>specialization</th>\n",
              "      <th>what is your current occupation</th>\n",
              "      <th>what matters most to you in choosing a course</th>\n",
              "      <th>city</th>\n",
              "      <th>last notable activity</th>\n",
              "    </tr>\n",
              "  </thead>\n",
              "  <tbody>\n",
              "    <tr>\n",
              "      <th>0</th>\n",
              "      <td>API</td>\n",
              "      <td>Olark Chat</td>\n",
              "      <td>0</td>\n",
              "      <td>0.0</td>\n",
              "      <td>0</td>\n",
              "      <td>0.0</td>\n",
              "      <td>Page Visited on Website</td>\n",
              "      <td>Others</td>\n",
              "      <td>Unemployed</td>\n",
              "      <td>Better Career Prospects</td>\n",
              "      <td>Mumbai</td>\n",
              "      <td>Modified</td>\n",
              "    </tr>\n",
              "    <tr>\n",
              "      <th>1</th>\n",
              "      <td>API</td>\n",
              "      <td>Organic Search</td>\n",
              "      <td>0</td>\n",
              "      <td>5.0</td>\n",
              "      <td>674</td>\n",
              "      <td>2.5</td>\n",
              "      <td>Email Opened</td>\n",
              "      <td>Others</td>\n",
              "      <td>Unemployed</td>\n",
              "      <td>Better Career Prospects</td>\n",
              "      <td>Mumbai</td>\n",
              "      <td>Email Opened</td>\n",
              "    </tr>\n",
              "    <tr>\n",
              "      <th>2</th>\n",
              "      <td>Landing Page Submission</td>\n",
              "      <td>Direct Traffic</td>\n",
              "      <td>1</td>\n",
              "      <td>2.0</td>\n",
              "      <td>1532</td>\n",
              "      <td>2.0</td>\n",
              "      <td>Email Opened</td>\n",
              "      <td>Business Administration</td>\n",
              "      <td>Student</td>\n",
              "      <td>Better Career Prospects</td>\n",
              "      <td>Mumbai</td>\n",
              "      <td>Email Opened</td>\n",
              "    </tr>\n",
              "    <tr>\n",
              "      <th>3</th>\n",
              "      <td>Landing Page Submission</td>\n",
              "      <td>Direct Traffic</td>\n",
              "      <td>0</td>\n",
              "      <td>1.0</td>\n",
              "      <td>305</td>\n",
              "      <td>1.0</td>\n",
              "      <td>Unreachable</td>\n",
              "      <td>Media and Advertising</td>\n",
              "      <td>Unemployed</td>\n",
              "      <td>Better Career Prospects</td>\n",
              "      <td>Mumbai</td>\n",
              "      <td>Modified</td>\n",
              "    </tr>\n",
              "    <tr>\n",
              "      <th>4</th>\n",
              "      <td>Landing Page Submission</td>\n",
              "      <td>Google</td>\n",
              "      <td>1</td>\n",
              "      <td>2.0</td>\n",
              "      <td>1428</td>\n",
              "      <td>1.0</td>\n",
              "      <td>Converted to Lead</td>\n",
              "      <td>Others</td>\n",
              "      <td>Unemployed</td>\n",
              "      <td>Better Career Prospects</td>\n",
              "      <td>Mumbai</td>\n",
              "      <td>Modified</td>\n",
              "    </tr>\n",
              "  </tbody>\n",
              "</table>\n",
              "</div>"
            ],
            "text/plain": [
              "               lead origin     lead source  ...    city  last notable activity\n",
              "0                      API      Olark Chat  ...  Mumbai               Modified\n",
              "1                      API  Organic Search  ...  Mumbai           Email Opened\n",
              "2  Landing Page Submission  Direct Traffic  ...  Mumbai           Email Opened\n",
              "3  Landing Page Submission  Direct Traffic  ...  Mumbai               Modified\n",
              "4  Landing Page Submission          Google  ...  Mumbai               Modified\n",
              "\n",
              "[5 rows x 12 columns]"
            ]
          },
          "metadata": {
            "tags": []
          },
          "execution_count": 65
        }
      ]
    },
    {
      "cell_type": "code",
      "metadata": {
        "id": "8FYT6qlnj6wF"
      },
      "source": [
        "X = df.drop(target_label, axis=1)\n",
        "y = df[target_label]\n",
        "\n",
        "X_train, X_test, y_train, y_test = train_test_split(X,\n",
        "                                                    y,\n",
        "                                                    train_size = 0.7,\n",
        "                                                    test_size=0.3,\n",
        "                                                    random_state=333\n",
        "                                                    )"
      ],
      "execution_count": 66,
      "outputs": []
    },
    {
      "cell_type": "markdown",
      "metadata": {
        "id": "IkqMP6aWknyd"
      },
      "source": [
        "##**Spliting dataset**"
      ]
    },
    {
      "cell_type": "code",
      "metadata": {
        "id": "XO9QyVl5gzxn",
        "colab": {
          "base_uri": "https://localhost:8080/"
        },
        "outputId": "645c4484-79e8-46ee-9872-ee7cf693a542"
      },
      "source": [
        "X = df.drop(target_label, axis=1)\n",
        "y = df[target_label]\n",
        "\n",
        "X_train, X_test, y_train, y_test = train_test_split(X,\n",
        "                                                    y,\n",
        "                                                    train_size = 0.7,\n",
        "                                                    test_size=0.3,\n",
        "                                                    random_state=333\n",
        "                                                    )\n",
        "\n",
        "print(\"X_train size ===>\", X_train.shape)\n",
        "print(\"y_train size ===>\", y_train.shape)\n",
        "print(\"X_test size ===>\", X_test.shape)\n",
        "print(\"y_test size ===>\", y_test.shape)\n"
      ],
      "execution_count": 67,
      "outputs": [
        {
          "output_type": "stream",
          "text": [
            "X_train size ===> (6351, 11)\n",
            "y_train size ===> (6351, 1)\n",
            "X_test size ===> (2723, 11)\n",
            "y_test size ===> (2723, 1)\n"
          ],
          "name": "stdout"
        }
      ]
    },
    {
      "cell_type": "markdown",
      "metadata": {
        "id": "eroDnKXPmAZB"
      },
      "source": [
        "##**Categorial variables to Dummy Variables**"
      ]
    },
    {
      "cell_type": "code",
      "metadata": {
        "id": "RanDVIl5lz7n",
        "outputId": "4a6c1c6e-209f-47e1-f537-fbdbfc3ef897",
        "colab": {
          "base_uri": "https://localhost:8080/"
        }
      },
      "source": [
        "for var in cat_vars:\n",
        "  X_train[var] =  pd.get_dummies(X_train[var])\n",
        "  X_test[var] = pd.get_dummies(X_test[var])"
      ],
      "execution_count": 68,
      "outputs": [
        {
          "output_type": "stream",
          "text": [
            "/usr/local/lib/python3.7/dist-packages/ipykernel_launcher.py:2: SettingWithCopyWarning: \n",
            "A value is trying to be set on a copy of a slice from a DataFrame.\n",
            "Try using .loc[row_indexer,col_indexer] = value instead\n",
            "\n",
            "See the caveats in the documentation: https://pandas.pydata.org/pandas-docs/stable/user_guide/indexing.html#returning-a-view-versus-a-copy\n",
            "  \n",
            "/usr/local/lib/python3.7/dist-packages/ipykernel_launcher.py:3: SettingWithCopyWarning: \n",
            "A value is trying to be set on a copy of a slice from a DataFrame.\n",
            "Try using .loc[row_indexer,col_indexer] = value instead\n",
            "\n",
            "See the caveats in the documentation: https://pandas.pydata.org/pandas-docs/stable/user_guide/indexing.html#returning-a-view-versus-a-copy\n",
            "  This is separate from the ipykernel package so we can avoid doing imports until\n"
          ],
          "name": "stderr"
        }
      ]
    },
    {
      "cell_type": "code",
      "metadata": {
        "id": "8dC00vd7nRpc",
        "outputId": "889a58fc-49f1-45d6-897c-4ba5cb08acf5",
        "colab": {
          "base_uri": "https://localhost:8080/",
          "height": 304
        }
      },
      "source": [
        "X_train.head()"
      ],
      "execution_count": 69,
      "outputs": [
        {
          "output_type": "execute_result",
          "data": {
            "text/html": [
              "<div>\n",
              "<style scoped>\n",
              "    .dataframe tbody tr th:only-of-type {\n",
              "        vertical-align: middle;\n",
              "    }\n",
              "\n",
              "    .dataframe tbody tr th {\n",
              "        vertical-align: top;\n",
              "    }\n",
              "\n",
              "    .dataframe thead th {\n",
              "        text-align: right;\n",
              "    }\n",
              "</style>\n",
              "<table border=\"1\" class=\"dataframe\">\n",
              "  <thead>\n",
              "    <tr style=\"text-align: right;\">\n",
              "      <th></th>\n",
              "      <th>lead origin</th>\n",
              "      <th>lead source</th>\n",
              "      <th>totalvisits</th>\n",
              "      <th>total time spent on website</th>\n",
              "      <th>page views per visit</th>\n",
              "      <th>last activity</th>\n",
              "      <th>specialization</th>\n",
              "      <th>what is your current occupation</th>\n",
              "      <th>what matters most to you in choosing a course</th>\n",
              "      <th>city</th>\n",
              "      <th>last notable activity</th>\n",
              "    </tr>\n",
              "  </thead>\n",
              "  <tbody>\n",
              "    <tr>\n",
              "      <th>7635</th>\n",
              "      <td>0</td>\n",
              "      <td>0</td>\n",
              "      <td>1.0</td>\n",
              "      <td>345</td>\n",
              "      <td>1.00</td>\n",
              "      <td>0</td>\n",
              "      <td>0</td>\n",
              "      <td>0</td>\n",
              "      <td>1</td>\n",
              "      <td>0</td>\n",
              "      <td>0</td>\n",
              "    </tr>\n",
              "    <tr>\n",
              "      <th>7276</th>\n",
              "      <td>1</td>\n",
              "      <td>0</td>\n",
              "      <td>3.0</td>\n",
              "      <td>641</td>\n",
              "      <td>1.50</td>\n",
              "      <td>0</td>\n",
              "      <td>0</td>\n",
              "      <td>0</td>\n",
              "      <td>1</td>\n",
              "      <td>1</td>\n",
              "      <td>0</td>\n",
              "    </tr>\n",
              "    <tr>\n",
              "      <th>8724</th>\n",
              "      <td>0</td>\n",
              "      <td>0</td>\n",
              "      <td>3.0</td>\n",
              "      <td>389</td>\n",
              "      <td>3.00</td>\n",
              "      <td>0</td>\n",
              "      <td>0</td>\n",
              "      <td>0</td>\n",
              "      <td>1</td>\n",
              "      <td>0</td>\n",
              "      <td>0</td>\n",
              "    </tr>\n",
              "    <tr>\n",
              "      <th>8314</th>\n",
              "      <td>0</td>\n",
              "      <td>0</td>\n",
              "      <td>11.0</td>\n",
              "      <td>1002</td>\n",
              "      <td>3.67</td>\n",
              "      <td>0</td>\n",
              "      <td>0</td>\n",
              "      <td>0</td>\n",
              "      <td>1</td>\n",
              "      <td>1</td>\n",
              "      <td>0</td>\n",
              "    </tr>\n",
              "    <tr>\n",
              "      <th>5033</th>\n",
              "      <td>0</td>\n",
              "      <td>0</td>\n",
              "      <td>14.0</td>\n",
              "      <td>302</td>\n",
              "      <td>3.50</td>\n",
              "      <td>0</td>\n",
              "      <td>0</td>\n",
              "      <td>0</td>\n",
              "      <td>1</td>\n",
              "      <td>1</td>\n",
              "      <td>0</td>\n",
              "    </tr>\n",
              "  </tbody>\n",
              "</table>\n",
              "</div>"
            ],
            "text/plain": [
              "      lead origin  lead source  ...  city  last notable activity\n",
              "7635            0            0  ...     0                      0\n",
              "7276            1            0  ...     1                      0\n",
              "8724            0            0  ...     0                      0\n",
              "8314            0            0  ...     1                      0\n",
              "5033            0            0  ...     1                      0\n",
              "\n",
              "[5 rows x 11 columns]"
            ]
          },
          "metadata": {
            "tags": []
          },
          "execution_count": 69
        }
      ]
    },
    {
      "cell_type": "markdown",
      "metadata": {
        "id": "ziHENkV_irXL"
      },
      "source": [
        "##**Scalling dataset**\n",
        "\n",
        "\n",
        "*   Sklearn returns numpy arrays, so we wrap it with a pandas dataframe\n",
        "\n"
      ]
    },
    {
      "cell_type": "code",
      "metadata": {
        "id": "Ig01MYw_gzu2"
      },
      "source": [
        "scaler = StandardScaler()\n",
        "scaler.fit(X_train)\n",
        "scaler.fit(X_test)\n",
        "\n",
        "X_train = pd.DataFrame(\n",
        "    scaler.transform(X_train),\n",
        "    columns=X_train.columns\n",
        ")\n",
        "\n",
        "X_test = pd.DataFrame(\n",
        "    scaler.transform(X_test),\n",
        "    columns=X_test.columns\n",
        ")"
      ],
      "execution_count": 80,
      "outputs": []
    },
    {
      "cell_type": "markdown",
      "metadata": {
        "id": "rxLr52TRoRDv"
      },
      "source": [
        "##**Visualize scaled dataset**"
      ]
    },
    {
      "cell_type": "code",
      "metadata": {
        "id": "Ei1v2UQ_gzmQ",
        "colab": {
          "base_uri": "https://localhost:8080/",
          "height": 304
        },
        "outputId": "ae087f1f-519a-4d64-f6c1-77dc77f66972"
      },
      "source": [
        "X_train.head()"
      ],
      "execution_count": 81,
      "outputs": [
        {
          "output_type": "execute_result",
          "data": {
            "text/html": [
              "<div>\n",
              "<style scoped>\n",
              "    .dataframe tbody tr th:only-of-type {\n",
              "        vertical-align: middle;\n",
              "    }\n",
              "\n",
              "    .dataframe tbody tr th {\n",
              "        vertical-align: top;\n",
              "    }\n",
              "\n",
              "    .dataframe thead th {\n",
              "        text-align: right;\n",
              "    }\n",
              "</style>\n",
              "<table border=\"1\" class=\"dataframe\">\n",
              "  <thead>\n",
              "    <tr style=\"text-align: right;\">\n",
              "      <th></th>\n",
              "      <th>lead origin</th>\n",
              "      <th>lead source</th>\n",
              "      <th>totalvisits</th>\n",
              "      <th>total time spent on website</th>\n",
              "      <th>page views per visit</th>\n",
              "      <th>last activity</th>\n",
              "      <th>specialization</th>\n",
              "      <th>what is your current occupation</th>\n",
              "      <th>what matters most to you in choosing a course</th>\n",
              "      <th>city</th>\n",
              "      <th>last notable activity</th>\n",
              "    </tr>\n",
              "  </thead>\n",
              "  <tbody>\n",
              "    <tr>\n",
              "      <th>0</th>\n",
              "      <td>-0.796526</td>\n",
              "      <td>-0.629611</td>\n",
              "      <td>-0.492776</td>\n",
              "      <td>-0.241907</td>\n",
              "      <td>-0.612436</td>\n",
              "      <td>-0.019167</td>\n",
              "      <td>-0.196266</td>\n",
              "      <td>-0.033211</td>\n",
              "      <td>0.019167</td>\n",
              "      <td>-1.747021</td>\n",
              "      <td>-0.086019</td>\n",
              "    </tr>\n",
              "    <tr>\n",
              "      <th>1</th>\n",
              "      <td>1.255452</td>\n",
              "      <td>-0.629611</td>\n",
              "      <td>-0.107359</td>\n",
              "      <td>0.299765</td>\n",
              "      <td>-0.392858</td>\n",
              "      <td>-0.019167</td>\n",
              "      <td>-0.196266</td>\n",
              "      <td>-0.033211</td>\n",
              "      <td>0.019167</td>\n",
              "      <td>0.572403</td>\n",
              "      <td>-0.086019</td>\n",
              "    </tr>\n",
              "    <tr>\n",
              "      <th>2</th>\n",
              "      <td>-0.796526</td>\n",
              "      <td>-0.629611</td>\n",
              "      <td>-0.107359</td>\n",
              "      <td>-0.161389</td>\n",
              "      <td>0.265875</td>\n",
              "      <td>-0.019167</td>\n",
              "      <td>-0.196266</td>\n",
              "      <td>-0.033211</td>\n",
              "      <td>0.019167</td>\n",
              "      <td>-1.747021</td>\n",
              "      <td>-0.086019</td>\n",
              "    </tr>\n",
              "    <tr>\n",
              "      <th>3</th>\n",
              "      <td>-0.796526</td>\n",
              "      <td>-0.629611</td>\n",
              "      <td>1.434310</td>\n",
              "      <td>0.960386</td>\n",
              "      <td>0.560110</td>\n",
              "      <td>-0.019167</td>\n",
              "      <td>-0.196266</td>\n",
              "      <td>-0.033211</td>\n",
              "      <td>0.019167</td>\n",
              "      <td>0.572403</td>\n",
              "      <td>-0.086019</td>\n",
              "    </tr>\n",
              "    <tr>\n",
              "      <th>4</th>\n",
              "      <td>-0.796526</td>\n",
              "      <td>-0.629611</td>\n",
              "      <td>2.012436</td>\n",
              "      <td>-0.320596</td>\n",
              "      <td>0.485453</td>\n",
              "      <td>-0.019167</td>\n",
              "      <td>-0.196266</td>\n",
              "      <td>-0.033211</td>\n",
              "      <td>0.019167</td>\n",
              "      <td>0.572403</td>\n",
              "      <td>-0.086019</td>\n",
              "    </tr>\n",
              "  </tbody>\n",
              "</table>\n",
              "</div>"
            ],
            "text/plain": [
              "   lead origin  lead source  ...      city  last notable activity\n",
              "0    -0.796526    -0.629611  ... -1.747021              -0.086019\n",
              "1     1.255452    -0.629611  ...  0.572403              -0.086019\n",
              "2    -0.796526    -0.629611  ... -1.747021              -0.086019\n",
              "3    -0.796526    -0.629611  ...  0.572403              -0.086019\n",
              "4    -0.796526    -0.629611  ...  0.572403              -0.086019\n",
              "\n",
              "[5 rows x 11 columns]"
            ]
          },
          "metadata": {
            "tags": []
          },
          "execution_count": 81
        }
      ]
    },
    {
      "cell_type": "markdown",
      "metadata": {
        "id": "cqIsnmcrokCc"
      },
      "source": [
        "##**Train the model**"
      ]
    },
    {
      "cell_type": "code",
      "metadata": {
        "id": "8xow5w0agzjo",
        "colab": {
          "base_uri": "https://localhost:8080/"
        },
        "outputId": "304be045-4674-4605-d4ff-ffcd2c3c1c7a"
      },
      "source": [
        "n_estimators = 100\n",
        "min_samples_split = 4\n",
        "\n",
        "clf = RandomForestClassifier(n_estimators=n_estimators,\n",
        "                            min_samples_split=min_samples_split)\n",
        "clf.fit(X_train, y_train.values.ravel())\n",
        "\n",
        "print(\"X_train size ===>\", X_train.shape)\n",
        "print(\"y_train size ===>\", y_train.shape)\n",
        "print(\"X_test size ===>\", X_test.shape)\n",
        "print(\"y_test size ===>\", y_test.shape)"
      ],
      "execution_count": 85,
      "outputs": [
        {
          "output_type": "stream",
          "text": [
            "X_train size ===> (6351, 11)\n",
            "y_train size ===> (6351, 1)\n",
            "X_test size ===> (2723, 11)\n",
            "y_test size ===> (2723, 1)\n"
          ],
          "name": "stdout"
        }
      ]
    },
    {
      "cell_type": "code",
      "metadata": {
        "id": "ErftpKU5gzg5",
        "colab": {
          "base_uri": "https://localhost:8080/"
        },
        "outputId": "15c8f449-0850-4c36-a807-2ffcfec52dd7"
      },
      "source": [
        "y_test_pred = clf.predict(X_test)\n",
        "\n",
        "accuracy = accuracy_score(y_test, y_test_pred)\n",
        "auc_score = roc_auc_score(y_test, y_test_pred)\n",
        "\n",
        "print(accuracy)\n",
        "print(auc_score)"
      ],
      "execution_count": 84,
      "outputs": [
        {
          "output_type": "stream",
          "text": [
            "0.7297098788101358\n",
            "0.7045870362199487\n"
          ],
          "name": "stdout"
        }
      ]
    },
    {
      "cell_type": "markdown",
      "metadata": {
        "id": "kgoSUV6WsV5N"
      },
      "source": [
        "##**Variable importance**"
      ]
    },
    {
      "cell_type": "code",
      "metadata": {
        "id": "1Yd9weuWp2LA",
        "outputId": "b1a518d5-3230-41a9-ebd2-3c85874f9ead",
        "colab": {
          "base_uri": "https://localhost:8080/"
        }
      },
      "source": [
        "feature_list = list(X_train.columns)\n",
        "importances = list(clf.feature_importances_)\n",
        "\n",
        "feature_importances = [(feature, round(importance,2)) for feature, importance in zip(feature_list, importances)]\n",
        "feature_importances = sorted(feature_importances, key = lambda x: x[1], reverse = True)\n",
        "[print('Variable: {:10} Importance: {}'.format(*pair)) for pair in feature_importances]"
      ],
      "execution_count": 77,
      "outputs": [
        {
          "output_type": "stream",
          "text": [
            "Variable: total time spent on website Importance: 0.7\n",
            "Variable: totalvisits Importance: 0.1\n",
            "Variable: page views per visit Importance: 0.09\n",
            "Variable: lead origin Importance: 0.07\n",
            "Variable: city       Importance: 0.02\n",
            "Variable: specialization Importance: 0.01\n",
            "Variable: lead source Importance: 0.0\n",
            "Variable: last activity Importance: 0.0\n",
            "Variable: what is your current occupation Importance: 0.0\n",
            "Variable: what matters most to you in choosing a course Importance: 0.0\n",
            "Variable: last notable activity Importance: 0.0\n"
          ],
          "name": "stdout"
        },
        {
          "output_type": "execute_result",
          "data": {
            "text/plain": [
              "[None, None, None, None, None, None, None, None, None, None, None]"
            ]
          },
          "metadata": {
            "tags": []
          },
          "execution_count": 0
        }
      ]
    },
    {
      "cell_type": "code",
      "metadata": {
        "id": "E3cKBNUKp2Db",
        "outputId": "f67ee386-e5cf-4b9d-bd91-9a47b129fcd4",
        "colab": {
          "base_uri": "https://localhost:8080/"
        }
      },
      "source": [
        "print(len(feature_list))"
      ],
      "execution_count": 78,
      "outputs": [
        {
          "output_type": "stream",
          "text": [
            "11\n"
          ],
          "name": "stdout"
        }
      ]
    },
    {
      "cell_type": "code",
      "metadata": {
        "id": "jfUC2Ad5p1_9"
      },
      "source": [
        ""
      ],
      "execution_count": null,
      "outputs": []
    },
    {
      "cell_type": "code",
      "metadata": {
        "id": "JfAAjDTHp15g"
      },
      "source": [
        ""
      ],
      "execution_count": null,
      "outputs": []
    },
    {
      "cell_type": "code",
      "metadata": {
        "id": "STlCrD__p10P"
      },
      "source": [
        ""
      ],
      "execution_count": null,
      "outputs": []
    },
    {
      "cell_type": "code",
      "metadata": {
        "id": "PrI76q0Lp1Mp"
      },
      "source": [
        ""
      ],
      "execution_count": null,
      "outputs": []
    },
    {
      "cell_type": "code",
      "metadata": {
        "id": "jtTCP0uwp1J_"
      },
      "source": [
        ""
      ],
      "execution_count": null,
      "outputs": []
    },
    {
      "cell_type": "code",
      "metadata": {
        "id": "K77tn3XFp1FH"
      },
      "source": [
        ""
      ],
      "execution_count": null,
      "outputs": []
    },
    {
      "cell_type": "code",
      "metadata": {
        "id": "4Z4nMzdNp1AU"
      },
      "source": [
        ""
      ],
      "execution_count": null,
      "outputs": []
    },
    {
      "cell_type": "code",
      "metadata": {
        "id": "1QvGUTszp07h"
      },
      "source": [
        ""
      ],
      "execution_count": null,
      "outputs": []
    }
  ]
}